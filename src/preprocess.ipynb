{
 "cells": [
  {
   "cell_type": "code",
   "execution_count": 10,
   "metadata": {},
   "outputs": [],
   "source": [
    "import pickle, json\n",
    "import pandas as pd"
   ]
  },
  {
   "cell_type": "code",
   "execution_count": 11,
   "metadata": {},
   "outputs": [],
   "source": [
    "model_type = \"conversation\" # abc or conversation"
   ]
  },
  {
   "cell_type": "code",
   "execution_count": 12,
   "metadata": {},
   "outputs": [
    {
     "data": {
      "text/html": [
       "<div>\n",
       "<style scoped>\n",
       "    .dataframe tbody tr th:only-of-type {\n",
       "        vertical-align: middle;\n",
       "    }\n",
       "\n",
       "    .dataframe tbody tr th {\n",
       "        vertical-align: top;\n",
       "    }\n",
       "\n",
       "    .dataframe thead th {\n",
       "        text-align: right;\n",
       "    }\n",
       "</style>\n",
       "<table border=\"1\" class=\"dataframe\">\n",
       "  <thead>\n",
       "    <tr style=\"text-align: right;\">\n",
       "      <th></th>\n",
       "      <th>label</th>\n",
       "      <th>data</th>\n",
       "    </tr>\n",
       "  </thead>\n",
       "  <tbody>\n",
       "    <tr>\n",
       "      <th>0</th>\n",
       "      <td>yes</td>\n",
       "      <td>[[0.0, 0.0, 0.0], [0.0, 0.0, 0.0], [0.0, 0.0, ...</td>\n",
       "    </tr>\n",
       "    <tr>\n",
       "      <th>1</th>\n",
       "      <td>yes</td>\n",
       "      <td>[[0.0, 0.0, 0.0], [0.0, 0.0, 0.0], [0.0, 0.0, ...</td>\n",
       "    </tr>\n",
       "    <tr>\n",
       "      <th>2</th>\n",
       "      <td>yes</td>\n",
       "      <td>[[0.0, 0.0, 0.0], [0.0, 0.0, 0.0], [0.0, 0.0, ...</td>\n",
       "    </tr>\n",
       "    <tr>\n",
       "      <th>3</th>\n",
       "      <td>yes</td>\n",
       "      <td>[[0.0, 0.0, 0.0], [0.0, 0.0, 0.0], [0.0, 0.0, ...</td>\n",
       "    </tr>\n",
       "    <tr>\n",
       "      <th>4</th>\n",
       "      <td>yes</td>\n",
       "      <td>[[0.0, 0.0, 0.0], [0.0, 0.0, 0.0], [0.0, 0.0, ...</td>\n",
       "    </tr>\n",
       "    <tr>\n",
       "      <th>...</th>\n",
       "      <td>...</td>\n",
       "      <td>...</td>\n",
       "    </tr>\n",
       "    <tr>\n",
       "      <th>2395</th>\n",
       "      <td>bad</td>\n",
       "      <td>[[0.0, 0.0, 0.0], [0.0, 0.0, 0.0], [0.0, 0.0, ...</td>\n",
       "    </tr>\n",
       "    <tr>\n",
       "      <th>2396</th>\n",
       "      <td>bad</td>\n",
       "      <td>[[0.0, 0.0, 0.0], [0.0, 0.0, 0.0], [0.0, 0.0, ...</td>\n",
       "    </tr>\n",
       "    <tr>\n",
       "      <th>2397</th>\n",
       "      <td>bad</td>\n",
       "      <td>[[0.0, 0.0, 0.0], [0.0, 0.0, 0.0], [0.0, 0.0, ...</td>\n",
       "    </tr>\n",
       "    <tr>\n",
       "      <th>2398</th>\n",
       "      <td>bad</td>\n",
       "      <td>[[0.0, 0.0, 0.0], [0.0, 0.0, 0.0], [0.0, 0.0, ...</td>\n",
       "    </tr>\n",
       "    <tr>\n",
       "      <th>2399</th>\n",
       "      <td>bad</td>\n",
       "      <td>[[0.0, 0.0, 0.0], [0.0, 0.0, 0.0], [0.0, 0.0, ...</td>\n",
       "    </tr>\n",
       "  </tbody>\n",
       "</table>\n",
       "<p>2400 rows × 2 columns</p>\n",
       "</div>"
      ],
      "text/plain": [
       "     label                                               data\n",
       "0      yes  [[0.0, 0.0, 0.0], [0.0, 0.0, 0.0], [0.0, 0.0, ...\n",
       "1      yes  [[0.0, 0.0, 0.0], [0.0, 0.0, 0.0], [0.0, 0.0, ...\n",
       "2      yes  [[0.0, 0.0, 0.0], [0.0, 0.0, 0.0], [0.0, 0.0, ...\n",
       "3      yes  [[0.0, 0.0, 0.0], [0.0, 0.0, 0.0], [0.0, 0.0, ...\n",
       "4      yes  [[0.0, 0.0, 0.0], [0.0, 0.0, 0.0], [0.0, 0.0, ...\n",
       "...    ...                                                ...\n",
       "2395   bad  [[0.0, 0.0, 0.0], [0.0, 0.0, 0.0], [0.0, 0.0, ...\n",
       "2396   bad  [[0.0, 0.0, 0.0], [0.0, 0.0, 0.0], [0.0, 0.0, ...\n",
       "2397   bad  [[0.0, 0.0, 0.0], [0.0, 0.0, 0.0], [0.0, 0.0, ...\n",
       "2398   bad  [[0.0, 0.0, 0.0], [0.0, 0.0, 0.0], [0.0, 0.0, ...\n",
       "2399   bad  [[0.0, 0.0, 0.0], [0.0, 0.0, 0.0], [0.0, 0.0, ...\n",
       "\n",
       "[2400 rows x 2 columns]"
      ]
     },
     "execution_count": 12,
     "metadata": {},
     "output_type": "execute_result"
    }
   ],
   "source": [
    "label2id = {}\n",
    "id2label = {}\n",
    "\n",
    "def load_data():\n",
    "    global NUM_LABELS\n",
    "\n",
    "    with open(f'../data/raw/{model_type}_points.json', 'r') as f:\n",
    "        points = json.load(f)\n",
    "\n",
    "    for item in points:\n",
    "        label = item[\"label\"]\n",
    "        if label not in label2id:\n",
    "            label2id[label] = len(label2id)\n",
    "            id2label[len(id2label)] = label\n",
    "\n",
    "    return pd.DataFrame(points).reset_index(drop=True)\n",
    "\n",
    "data = load_data()\n",
    "data"
   ]
  },
  {
   "cell_type": "code",
   "execution_count": 13,
   "metadata": {},
   "outputs": [
    {
     "data": {
      "text/plain": [
       "{0: 'yes',\n",
       " 1: 'no',\n",
       " 2: 'hello',\n",
       " 3: 'bye',\n",
       " 4: 'how',\n",
       " 5: 'old',\n",
       " 6: 'you',\n",
       " 7: 'me',\n",
       " 8: 'explore',\n",
       " 9: 'deaf',\n",
       " 10: 'good',\n",
       " 11: 'bad'}"
      ]
     },
     "execution_count": 13,
     "metadata": {},
     "output_type": "execute_result"
    }
   ],
   "source": [
    "# Save id2label dict\n",
    "with open(f\"../data/model/{model_type}_id2label.pkl\", \"wb\") as f:\n",
    "    pickle.dump(id2label, f)\n",
    "\n",
    "id2label"
   ]
  },
  {
   "cell_type": "code",
   "execution_count": 14,
   "metadata": {},
   "outputs": [
    {
     "data": {
      "text/plain": [
       "0     200\n",
       "1     200\n",
       "2     200\n",
       "3     200\n",
       "4     200\n",
       "5     200\n",
       "6     200\n",
       "7     200\n",
       "8     200\n",
       "9     200\n",
       "10    200\n",
       "11    200\n",
       "Name: label, dtype: int64"
      ]
     },
     "execution_count": 14,
     "metadata": {},
     "output_type": "execute_result"
    }
   ],
   "source": [
    " # Convert labels to numbers\n",
    "data['label'] = data['label'].apply(lambda x: label2id[x])\n",
    "data['label'].value_counts()"
   ]
  },
  {
   "cell_type": "code",
   "execution_count": 15,
   "metadata": {},
   "outputs": [],
   "source": [
    "from sklearn.model_selection import train_test_split\n",
    "\n",
    "# Split data into train and test\n",
    "train, test = train_test_split(data, test_size=0.2, random_state=42)\n",
    "\n",
    "with open(f\"../data/clean/{model_type}_train.pkl\", \"wb\") as f:\n",
    "    pickle.dump(train.to_dict('records'), f)\n",
    "\n",
    "with open(f\"../data/clean/{model_type}_test.pkl\", \"wb\") as f:\n",
    "    pickle.dump(test.to_dict('records'), f)"
   ]
  },
  {
   "cell_type": "code",
   "execution_count": 16,
   "metadata": {},
   "outputs": [
    {
     "data": {
      "text/plain": [
       "(1920, 480)"
      ]
     },
     "execution_count": 16,
     "metadata": {},
     "output_type": "execute_result"
    }
   ],
   "source": [
    "len(train), len(test)"
   ]
  },
  {
   "cell_type": "code",
   "execution_count": 17,
   "metadata": {},
   "outputs": [
    {
     "data": {
      "text/html": [
       "<div>\n",
       "<style scoped>\n",
       "    .dataframe tbody tr th:only-of-type {\n",
       "        vertical-align: middle;\n",
       "    }\n",
       "\n",
       "    .dataframe tbody tr th {\n",
       "        vertical-align: top;\n",
       "    }\n",
       "\n",
       "    .dataframe thead th {\n",
       "        text-align: right;\n",
       "    }\n",
       "</style>\n",
       "<table border=\"1\" class=\"dataframe\">\n",
       "  <thead>\n",
       "    <tr style=\"text-align: right;\">\n",
       "      <th></th>\n",
       "      <th>label</th>\n",
       "      <th>data</th>\n",
       "    </tr>\n",
       "  </thead>\n",
       "  <tbody>\n",
       "    <tr>\n",
       "      <th>120</th>\n",
       "      <td>0</td>\n",
       "      <td>[[0.0, 0.0, 0.0], [0.0, 0.0, 0.0], [0.0, 0.0, ...</td>\n",
       "    </tr>\n",
       "    <tr>\n",
       "      <th>283</th>\n",
       "      <td>1</td>\n",
       "      <td>[[0.0, 0.0, 0.0], [0.0, 0.0, 0.0], [0.0, 0.0, ...</td>\n",
       "    </tr>\n",
       "    <tr>\n",
       "      <th>1727</th>\n",
       "      <td>8</td>\n",
       "      <td>[[-1.0, 1.0, 0.04390311241149902], [-0.2837255...</td>\n",
       "    </tr>\n",
       "    <tr>\n",
       "      <th>1984</th>\n",
       "      <td>9</td>\n",
       "      <td>[[0.0, 0.0, 0.0], [0.0, 0.0, 0.0], [0.0, 0.0, ...</td>\n",
       "    </tr>\n",
       "    <tr>\n",
       "      <th>647</th>\n",
       "      <td>3</td>\n",
       "      <td>[[0.0, 0.0, 0.0], [0.0, 0.0, 0.0], [0.0, 0.0, ...</td>\n",
       "    </tr>\n",
       "    <tr>\n",
       "      <th>...</th>\n",
       "      <td>...</td>\n",
       "      <td>...</td>\n",
       "    </tr>\n",
       "    <tr>\n",
       "      <th>1638</th>\n",
       "      <td>8</td>\n",
       "      <td>[[-1.0, 0.9847769737243652, -0.900730669498443...</td>\n",
       "    </tr>\n",
       "    <tr>\n",
       "      <th>1095</th>\n",
       "      <td>5</td>\n",
       "      <td>[[0.0, 0.0, 0.0], [0.0, 0.0, 0.0], [0.0, 0.0, ...</td>\n",
       "    </tr>\n",
       "    <tr>\n",
       "      <th>1130</th>\n",
       "      <td>5</td>\n",
       "      <td>[[0.0, 0.0, 0.0], [0.0, 0.0, 0.0], [0.0, 0.0, ...</td>\n",
       "    </tr>\n",
       "    <tr>\n",
       "      <th>1294</th>\n",
       "      <td>6</td>\n",
       "      <td>[[0.0, 0.0, 0.0], [0.0, 0.0, 0.0], [0.0, 0.0, ...</td>\n",
       "    </tr>\n",
       "    <tr>\n",
       "      <th>860</th>\n",
       "      <td>4</td>\n",
       "      <td>[[-0.9586117267608643, 0.5427463054656982, 1.0...</td>\n",
       "    </tr>\n",
       "  </tbody>\n",
       "</table>\n",
       "<p>1920 rows × 2 columns</p>\n",
       "</div>"
      ],
      "text/plain": [
       "      label                                               data\n",
       "120       0  [[0.0, 0.0, 0.0], [0.0, 0.0, 0.0], [0.0, 0.0, ...\n",
       "283       1  [[0.0, 0.0, 0.0], [0.0, 0.0, 0.0], [0.0, 0.0, ...\n",
       "1727      8  [[-1.0, 1.0, 0.04390311241149902], [-0.2837255...\n",
       "1984      9  [[0.0, 0.0, 0.0], [0.0, 0.0, 0.0], [0.0, 0.0, ...\n",
       "647       3  [[0.0, 0.0, 0.0], [0.0, 0.0, 0.0], [0.0, 0.0, ...\n",
       "...     ...                                                ...\n",
       "1638      8  [[-1.0, 0.9847769737243652, -0.900730669498443...\n",
       "1095      5  [[0.0, 0.0, 0.0], [0.0, 0.0, 0.0], [0.0, 0.0, ...\n",
       "1130      5  [[0.0, 0.0, 0.0], [0.0, 0.0, 0.0], [0.0, 0.0, ...\n",
       "1294      6  [[0.0, 0.0, 0.0], [0.0, 0.0, 0.0], [0.0, 0.0, ...\n",
       "860       4  [[-0.9586117267608643, 0.5427463054656982, 1.0...\n",
       "\n",
       "[1920 rows x 2 columns]"
      ]
     },
     "execution_count": 17,
     "metadata": {},
     "output_type": "execute_result"
    }
   ],
   "source": [
    "train"
   ]
  },
  {
   "cell_type": "code",
   "execution_count": 18,
   "metadata": {},
   "outputs": [
    {
     "data": {
      "text/html": [
       "<div>\n",
       "<style scoped>\n",
       "    .dataframe tbody tr th:only-of-type {\n",
       "        vertical-align: middle;\n",
       "    }\n",
       "\n",
       "    .dataframe tbody tr th {\n",
       "        vertical-align: top;\n",
       "    }\n",
       "\n",
       "    .dataframe thead th {\n",
       "        text-align: right;\n",
       "    }\n",
       "</style>\n",
       "<table border=\"1\" class=\"dataframe\">\n",
       "  <thead>\n",
       "    <tr style=\"text-align: right;\">\n",
       "      <th></th>\n",
       "      <th>label</th>\n",
       "      <th>data</th>\n",
       "    </tr>\n",
       "  </thead>\n",
       "  <tbody>\n",
       "    <tr>\n",
       "      <th>2037</th>\n",
       "      <td>10</td>\n",
       "      <td>[[0.23540735244750977, 1.0, 1.0], [-0.31142449...</td>\n",
       "    </tr>\n",
       "    <tr>\n",
       "      <th>1978</th>\n",
       "      <td>9</td>\n",
       "      <td>[[0.0, 0.0, 0.0], [0.0, 0.0, 0.0], [0.0, 0.0, ...</td>\n",
       "    </tr>\n",
       "    <tr>\n",
       "      <th>855</th>\n",
       "      <td>4</td>\n",
       "      <td>[[-1.0, 0.4522435665130615, 1.0], [-0.83508092...</td>\n",
       "    </tr>\n",
       "    <tr>\n",
       "      <th>1719</th>\n",
       "      <td>8</td>\n",
       "      <td>[[-1.0, 1.0, -0.5887061953544617], [-0.2704563...</td>\n",
       "    </tr>\n",
       "    <tr>\n",
       "      <th>2019</th>\n",
       "      <td>10</td>\n",
       "      <td>[[-0.4079664349555969, 1.0, 1.0], [-0.75771355...</td>\n",
       "    </tr>\n",
       "    <tr>\n",
       "      <th>...</th>\n",
       "      <td>...</td>\n",
       "      <td>...</td>\n",
       "    </tr>\n",
       "    <tr>\n",
       "      <th>1832</th>\n",
       "      <td>9</td>\n",
       "      <td>[[0.0, 0.0, 0.0], [0.0, 0.0, 0.0], [0.0, 0.0, ...</td>\n",
       "    </tr>\n",
       "    <tr>\n",
       "      <th>203</th>\n",
       "      <td>1</td>\n",
       "      <td>[[0.0, 0.0, 0.0], [0.0, 0.0, 0.0], [0.0, 0.0, ...</td>\n",
       "    </tr>\n",
       "    <tr>\n",
       "      <th>174</th>\n",
       "      <td>0</td>\n",
       "      <td>[[0.0, 0.0, 0.0], [0.0, 0.0, 0.0], [0.0, 0.0, ...</td>\n",
       "    </tr>\n",
       "    <tr>\n",
       "      <th>420</th>\n",
       "      <td>2</td>\n",
       "      <td>[[0.0, 0.0, 0.0], [0.0, 0.0, 0.0], [0.0, 0.0, ...</td>\n",
       "    </tr>\n",
       "    <tr>\n",
       "      <th>892</th>\n",
       "      <td>4</td>\n",
       "      <td>[[-1.0, 0.5173733234405518, -0.081478536128997...</td>\n",
       "    </tr>\n",
       "  </tbody>\n",
       "</table>\n",
       "<p>480 rows × 2 columns</p>\n",
       "</div>"
      ],
      "text/plain": [
       "      label                                               data\n",
       "2037     10  [[0.23540735244750977, 1.0, 1.0], [-0.31142449...\n",
       "1978      9  [[0.0, 0.0, 0.0], [0.0, 0.0, 0.0], [0.0, 0.0, ...\n",
       "855       4  [[-1.0, 0.4522435665130615, 1.0], [-0.83508092...\n",
       "1719      8  [[-1.0, 1.0, -0.5887061953544617], [-0.2704563...\n",
       "2019     10  [[-0.4079664349555969, 1.0, 1.0], [-0.75771355...\n",
       "...     ...                                                ...\n",
       "1832      9  [[0.0, 0.0, 0.0], [0.0, 0.0, 0.0], [0.0, 0.0, ...\n",
       "203       1  [[0.0, 0.0, 0.0], [0.0, 0.0, 0.0], [0.0, 0.0, ...\n",
       "174       0  [[0.0, 0.0, 0.0], [0.0, 0.0, 0.0], [0.0, 0.0, ...\n",
       "420       2  [[0.0, 0.0, 0.0], [0.0, 0.0, 0.0], [0.0, 0.0, ...\n",
       "892       4  [[-1.0, 0.5173733234405518, -0.081478536128997...\n",
       "\n",
       "[480 rows x 2 columns]"
      ]
     },
     "execution_count": 18,
     "metadata": {},
     "output_type": "execute_result"
    }
   ],
   "source": [
    "test"
   ]
  }
 ],
 "metadata": {
  "kernelspec": {
   "display_name": "Python 3.10.3 ('venv': venv)",
   "language": "python",
   "name": "python3"
  },
  "language_info": {
   "codemirror_mode": {
    "name": "ipython",
    "version": 3
   },
   "file_extension": ".py",
   "mimetype": "text/x-python",
   "name": "python",
   "nbconvert_exporter": "python",
   "pygments_lexer": "ipython3",
   "version": "3.10.3"
  },
  "orig_nbformat": 4,
  "vscode": {
   "interpreter": {
    "hash": "129e4a8c12bc87b23d36edabc563edc13a2fadcc07cc23745b1f43ac92cae44f"
   }
  }
 },
 "nbformat": 4,
 "nbformat_minor": 2
}
