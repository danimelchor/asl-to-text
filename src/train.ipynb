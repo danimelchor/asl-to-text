{
 "cells": [
  {
   "cell_type": "code",
   "execution_count": null,
   "metadata": {},
   "outputs": [],
   "source": [
    "import torch\n",
    "from torch.utils.data import DataLoader\n",
    "import pickle\n",
    "import numpy as np"
   ]
  },
  {
   "cell_type": "code",
   "execution_count": null,
   "metadata": {},
   "outputs": [],
   "source": [
    "model_type = \"conversation\" # abc or conversation\n",
    "device = \"mps\""
   ]
  },
  {
   "cell_type": "code",
   "execution_count": null,
   "metadata": {},
   "outputs": [],
   "source": [
    "with open(f\"../data/clean/{model_type}_train.pkl\", \"rb\") as f:\n",
    "    train = pickle.load(f)\n",
    "\n",
    "with open(f\"../data/clean/{model_type}_test.pkl\", \"rb\") as f:\n",
    "    test = pickle.load(f)\n",
    "\n",
    "train_tensors = []\n",
    "for i in train:\n",
    "    train_tensors.append({\n",
    "        \"data\": torch.tensor(i[\"data\"]).float(),\n",
    "        \"label\": torch.tensor(i[\"label\"]).long()\n",
    "    })\n",
    "\n",
    "test_tensors = []\n",
    "for i in test:\n",
    "    test_tensors.append({\n",
    "        \"data\": torch.tensor(i[\"data\"]).float(),\n",
    "        \"label\": torch.tensor(i[\"label\"]).long()\n",
    "    })\n",
    "\n",
    "train_loader = DataLoader(train_tensors, batch_size=32, shuffle=True)\n",
    "test_loader = DataLoader(test_tensors, batch_size=32, shuffle=True)"
   ]
  },
  {
   "cell_type": "code",
   "execution_count": null,
   "metadata": {},
   "outputs": [],
   "source": [
    "with open(f\"../data/model/{model_type}_id2label.pkl\", \"rb\") as f:\n",
    "    id2label = pickle.load(f)\n",
    "\n",
    "id2label"
   ]
  },
  {
   "cell_type": "code",
   "execution_count": null,
   "metadata": {},
   "outputs": [],
   "source": [
    "from PointNet import PointNet\n",
    "\n",
    "num_classes = len(id2label)\n",
    "print(f\"Instantiating model with {num_classes} classes\")\n",
    "pointnet = PointNet(classes=num_classes, device=device)"
   ]
  },
  {
   "cell_type": "code",
   "execution_count": 6,
   "metadata": {},
   "outputs": [],
   "source": [
    "from sklearn.metrics import accuracy_score\n",
    "\n",
    "checkpoint_path = f\"../data/model/{model_type}.pth\"\n",
    "\n",
    "def pointnetloss(outputs, labels, m3x3, m64x64, alpha = 0.0001):\n",
    "    criterion = torch.nn.NLLLoss()\n",
    "    bs=outputs.size(0)\n",
    "    id3x3 = torch.eye(3, requires_grad=True).repeat(bs,1,1).to(device)\n",
    "    id64x64 = torch.eye(64, requires_grad=True).repeat(bs,1,1).to(device)\n",
    "    diff3x3 = id3x3 - torch.bmm(m3x3,m3x3.transpose(1,2))\n",
    "    diff64x64 = id64x64 - torch.bmm(m64x64,m64x64.transpose(1,2))\n",
    "    return criterion(outputs, labels) + alpha * (torch.norm(diff3x3)+torch.norm(diff64x64)) / float(bs)\n",
    "\n",
    "def train(model, train_loader, val_loader, epochs):\n",
    "    for epoch in range(epochs): \n",
    "        model.train()\n",
    "        running_loss = 0.0\n",
    "        print_every_x = 16\n",
    "        for i, data in enumerate(train_loader, 0):\n",
    "            inputs = data['data'].to(device)\n",
    "            labels = data['label'].to(device)\n",
    "            optimizer.zero_grad()\n",
    "            outputs, m3x3, m64x64 = model(inputs.transpose(1,2))\n",
    "\n",
    "            loss = pointnetloss(outputs, labels, m3x3, m64x64)\n",
    "            loss.backward()\n",
    "            optimizer.step()\n",
    "\n",
    "            # print statistics\n",
    "            running_loss += loss.item()\n",
    "            if i % print_every_x == print_every_x - 1:\n",
    "                print(f\"[Epoch: {epoch + 1}, Batch: {i + 1}, Loss: {running_loss / print_every_x:.4f}]\")\n",
    "                running_loss = 0.0\n",
    "\n",
    "        model.eval()\n",
    "        # validation\n",
    "        total = correct = 0\n",
    "        with torch.no_grad():\n",
    "            for data in val_loader:\n",
    "                inputs, labels = data['data'].to(device).float(), data['label'].to(device)\n",
    "                outputs, _, _ = model(inputs.transpose(1,2))\n",
    "                _, predicted = torch.max(outputs.data, 1)\n",
    "                total += labels.size(0)\n",
    "                correct += (predicted == labels).sum().item()\n",
    "            print(f'Accuracy: {100 * correct / total:.2f}%')\n",
    "\n",
    "optimizer = torch.optim.Adam(pointnet.parameters(), lr=0.00025)\n",
    "train(pointnet, train_loader, test_loader, epochs=15)\n",
    "torch.save(pointnet.state_dict(), checkpoint_path)"
   ]
  },
  {
   "cell_type": "code",
   "execution_count": null,
   "metadata": {},
   "outputs": [],
   "source": [
    "from sklearn.metrics import confusion_matrix\n",
    "import matplotlib.pyplot as plt\n",
    "import seaborn as sns\n",
    "\n",
    "pointnet = PointNet(classes=num_classes, device=\"cpu\")\n",
    "pointnet.load_from_pth(checkpoint_path)\n",
    "pointnet.eval()\n",
    "\n",
    "all_preds = []\n",
    "all_labels = []\n",
    "with torch.no_grad():\n",
    "    for i, data in enumerate(test_loader):\n",
    "        inputs, labels = data['data'].float(), data['label'].long()\n",
    "        outputs, _, _ = pointnet(inputs.transpose(1,2))\n",
    "        _, preds = torch.max(outputs.data, 1)\n",
    "        all_preds += preds.numpy().tolist()\n",
    "        all_labels += labels.numpy().tolist()\n",
    "    \n",
    "# Plot confusion matrix\n",
    "cm = confusion_matrix(all_labels, all_preds)\n",
    "cm = cm.astype('float') / cm.sum(axis=1)[:, np.newaxis]\n",
    "sns.heatmap(cm, annot=True, fmt='.2f', xticklabels=id2label.values(), yticklabels=id2label.values())\n",
    "plt.ylabel('Actual')\n",
    "plt.xlabel('Predicted')\n",
    "plt.show()"
   ]
  }
 ],
 "metadata": {
  "kernelspec": {
   "display_name": "Python 3.10.3 ('venv': venv)",
   "language": "python",
   "name": "python3"
  },
  "language_info": {
   "codemirror_mode": {
    "name": "ipython",
    "version": 3
   },
   "file_extension": ".py",
   "mimetype": "text/x-python",
   "name": "python",
   "nbconvert_exporter": "python",
   "pygments_lexer": "ipython3",
   "version": "3.10.3"
  },
  "orig_nbformat": 4,
  "vscode": {
   "interpreter": {
    "hash": "129e4a8c12bc87b23d36edabc563edc13a2fadcc07cc23745b1f43ac92cae44f"
   }
  }
 },
 "nbformat": 4,
 "nbformat_minor": 2
}
